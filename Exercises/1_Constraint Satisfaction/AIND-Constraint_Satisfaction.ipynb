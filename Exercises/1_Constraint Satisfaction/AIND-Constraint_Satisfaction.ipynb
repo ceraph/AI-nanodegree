{
  "cells": [
    {
      "cell_type": "markdown",
      "metadata": {
        "pycharm": {}
      },
      "source": [
        "# Constraint Satisfaction Problems\n",
        "---\n",
        "Constraint satisfaction is a general problem solving technique for solving a class of combinatorial optimization problems by imposing limits on the values in the solution. The goal of this exercise is to practice formulating some classical example problems as constraint satisfaction problems (CSPs), and then to explore using a powerful open source constraint satisfaction tool called [Z3](https://github.com/Z3Prover/z3) from Microsoft Research to solve them. Practicing with these simple problems will help you to recognize real-world problems that can be posed as CSPs; some solvers even have specialized utilities for specific types of problem (vehicle routing, planning, scheduling, etc.).\n",
        "\n",
        "There are many different kinds of CSP solvers available for CSPs. Z3 is a \"Satisfiability Modulo Theories\" (SMT) solver, which means that unlike the backtracking and variable assignment heuristics discussed in lecture, Z3 first converts CSPs to satisfiability problems then uses a [boolean satisfiability](https://en.wikipedia.org/wiki/Boolean_satisfiability_problem) (SAT) solver to determine feasibility. Z3 includes a number of efficient solver algorithms primarily developed to perform formal program verification, but it can also be used on general CSPs. Google\u0027s [OR tools](https://developers.google.com/optimization/) includes a CSP solver using backtracking with specialized subroutines for some common CP domains.\n",
        "\n",
        "## I. The Road Ahead\n",
        "\n",
        "0. [Cryptarithmetic](#I.-Cryptarithmetic) - introducing the Z3 API with simple word puzzles\n",
        "0. [Map Coloring](#II.-Map-Coloring) - solving the map coloring problem from lectures\n",
        "0. [N-Queens](#III.-N-Queens) - experimenting with problems that scale\n",
        "0. [Revisiting Sudoku](#IV.-Revisiting-Sudoku) - revisit the sudoku project with the Z3 solver"
      ]
    },
    {
      "cell_type": "markdown",
      "metadata": {
        "pycharm": {}
      },
      "source": [
        "\u003cdiv class\u003d\"alert alert-box alert-info\"\u003e\n",
        "NOTE: You can find solutions to this exercise in the \"solutions\" branch of the git repo, or on GitHub [here](https://github.com/udacity/artificial-intelligence/blob/solutions/Exercises/1_Constraint%20Satisfaction/AIND-Constraint_Satisfaction.ipynb).\n",
        "\u003c/div\u003e"
      ]
    },
    {
      "cell_type": "code",
      "execution_count": 1,
      "metadata": {
        "collapsed": true,
        "pycharm": {
          "is_executing": false
        }
      },
      "outputs": [],
      "source": [
        "%matplotlib inline"
      ]
    },
    {
      "cell_type": "code",
      "execution_count": 2,
      "metadata": {
        "collapsed": true,
        "pycharm": {
          "is_executing": false
        }
      },
      "outputs": [],
      "source": "import matplotlib as mpl\nimport matplotlib.pyplot as plt\n\n# from util import displayBoard\nfrom itertools import product\nfrom IPython.display import display\nfrom z3 import *"
    },
    {
      "cell_type": "markdown",
      "metadata": {
        "pycharm": {}
      },
      "source": [
        "---\n",
        "## I. Cryptarithmetic\n",
        "\n",
        "We\u0027ll start by exploring the Z3 module with a _very_ simple \u0026 classic CSP problem called cryptarithmetic. A cryptarithmetic puzzle is posed as an arithmetic equation made up of words where each letter represents a distinct digit in the range (0-9). (This problem has no practical significance in AI, but it is a useful illustration of the basic ideas of CSPs.) For example, consider the problem and one possible solution shown below:\n",
        "\n",
        "```\n",
        "  T W O  :    9 3 8\n",
        "+ T W O  :  + 9 3 8\n",
        "-------  :  -------\n",
        "F O U R  :  1 8 7 6\n",
        "```\n",
        "There are six distinct variables (F, O, R, T, U, W), and when we require each letter to represent a disctinct number (e.g., F !\u003d O, R !\u003d T, ..., etc.) and disallow leading zeros (i.e., T !\u003d 0 and F !\u003d 0) then one possible solution is (F\u003d1, O\u003d8, R\u003d6, T\u003d9, U\u003d7, W\u003d3). \n",
        "\n",
        "### IMPLEMENTATION: Declaring Variables\n",
        "For this problem we need a single variable for each distinct letter in the puzzle, and each variable will have an integer values between 0-9. (We will handle restricting the leading digits separately.) Complete the declarations in the next cell to create all of the remaining variables and constraint them to the range 0-9."
      ]
    },
    {
      "cell_type": "code",
      "execution_count": 3,
      "metadata": {
        "collapsed": true,
        "pycharm": {
          "is_executing": false
        }
      },
      "outputs": [],
      "source": "ca_solver \u003d Solver()  # create an instance of a Z3 CSP solver\n\nF \u003d Int(\u0027F\u0027)  # create an z3.Int type variable instance called \"F\"\nca_solver.add(0 \u003c\u003d F, F \u003c\u003d 9)  # add constraints to the solver: 0 \u003c\u003d F \u003c\u003d 9\nO \u003d Int(\u0027O\u0027)\nca_solver.add(0 \u003c\u003d O, O \u003c\u003d 9)\nU \u003d Int(\u0027U\u0027)\nca_solver.add(0 \u003c\u003d U, U \u003c\u003d 9)\nR \u003d Int(\u0027R\u0027)\nca_solver.add(0 \u003c\u003d R, R \u003c\u003d 9)\nT \u003d Int(\u0027T\u0027)\nca_solver.add(0 \u003c\u003d T, T \u003c\u003d 9)\nW \u003d Int(\u0027W\u0027)\nca_solver.add(0 \u003c\u003d W, W \u003c\u003d 9)"
    },
    {
      "cell_type": "markdown",
      "metadata": {
        "pycharm": {}
      },
      "source": [
        "### IMPLEMENTATION: Encoding Assumptions as Constraints\n",
        "We had two additional assumptions that need to be added as constraints: 1) leading digits cannot be zero, and 2) no two distinct letters represent the same digits. The first assumption can simply be added as a boolean statement like M !\u003d 0. And the second is a _very_ common CSP constraint (so common, in fact, that most libraries have a built in function to support it); z3 is no exception, with the Distinct(var_list) constraint function."
      ]
    },
    {
      "cell_type": "code",
      "execution_count": 4,
      "metadata": {
        "collapsed": true,
        "pycharm": {
          "is_executing": false
        }
      },
      "outputs": [],
      "source": "ca_solver.add(F !\u003d 0)\nca_solver.add(T !\u003d 0)\n\nca_solver.add(Distinct(F, O, U, R, T, W))"
    },
    {
      "cell_type": "markdown",
      "metadata": {
        "pycharm": {}
      },
      "source": [
        "### Choosing Problem Constraints\n",
        "There are often multiple ways to express the constraints for a problem. For example, in this case we could write a single large constraint combining all of the letters simultaneously $T\\times10^2 + W\\times10^1 + O\\times10^0 + T\\times10^2 + W\\times10^1 + O\\times10^0 \u003d F\\times10^3 + O\\times10^2 + U\\times10^1 + R\\times10^0$. This kind of constraint works fine for some problems, but large constraints cannot usually be evaluated for satisfiability unless every variable is bound to a specific value. Expressing the problem with smaller constraints can sometimes allow the solver to finish faster.\n",
        "\n",
        "For example, we can break out each pair of digits in the summands and introduce a carry variable for each column: $(O + O)\\times10^0 \u003d R\\times10^0 + carry_1\\times10^1$ This constraint can be evaluated as True/False with only four values assigned.\n",
        "\n",
        "The choice of encoding on this problem is unlikely to have any effect (because the problem is so small), however it is worth considering on more complex problems.\n",
        "\n",
        "### Implementation: Add the Problem Constraints\n",
        "Pick one of the possible encodings discussed above and add the required constraints into the solver in the next cell. "
      ]
    },
    {
      "cell_type": "code",
      "execution_count": 5,
      "metadata": {
        "collapsed": true,
        "pycharm": {
          "is_executing": false
        }
      },
      "outputs": [],
      "source": "# TODO: add any required variables and/or constraints to solve the cryptarithmetic puzzle\n# Primary solution using single constraint for the cryptarithmetic equation\ncarry1 \u003d Int(\u0027carry1\u0027)\ncarry2 \u003d Int(\u0027carry2\u0027)\ncarry3 \u003d Int(\u0027carry3\u0027)\nca_solver.add(*[And(c \u003e\u003d 0, c \u003c\u003d 9) for c in [carry1, carry3, carry3]])\nca_solver.add(O + O \u003d\u003d R + carry1 * 10)\nca_solver.add(W + W + carry1 \u003d\u003d U + carry2 * 10)\nca_solver.add(T + T + carry2 \u003d\u003d O + carry3 * 10)\nca_solver.add(F \u003d\u003d carry3)"
    },
    {
      "cell_type": "code",
      "execution_count": 6,
      "metadata": {
        "collapsed": true,
        "pycharm": {
          "is_executing": false
        }
      },
      "outputs": [
        {
          "name": "stdout",
          "text": [
            "  T W O  :    7 6 5\n+ T W O  :  + 7 6 5\n-------  :  -------\nF O U R  :  1 5 3 0\n"
          ],
          "output_type": "stream"
        }
      ],
      "source": [
        "assert ca_solver.check() \u003d\u003d sat, \"Uh oh...the solver did not find a solution. Check your constraints.\"\n",
        "print(\"  T W O  :    {} {} {}\".format(ca_solver.model()[T], ca_solver.model()[W], ca_solver.model()[O]))\n",
        "print(\"+ T W O  :  + {} {} {}\".format(ca_solver.model()[T], ca_solver.model()[W], ca_solver.model()[O]))\n",
        "print(\"-------  :  -------\")\n",
        "print(\"F O U R  :  {} {} {} {}\".format(ca_solver.model()[F], ca_solver.model()[O], ca_solver.model()[U], ca_solver.model()[R]))"
      ]
    },
    {
      "cell_type": "markdown",
      "metadata": {
        "pycharm": {}
      },
      "source": [
        "### Cryptarithmetic Challenges\n",
        "0. Search online for [more cryptarithmetic puzzles](https://www.reddit.com/r/dailyprogrammer/comments/7p5p2o/20180108_challenge_346_easy_cryptarithmetic_solver/) (or create your own). Come to office hours or join a discussion channel to chat with your peers about the trade-offs between monolithic constraints \u0026 splitting up the constraints. (Is one way or another easier to generalize or scale with new problems? Is one of them faster for large or small problems?)\n",
        "0. Can you extend the solution to handle complex puzzles (e.g., using multiplication WORD1 x WORD2 \u003d OUTPUT)?"
      ]
    },
    {
      "cell_type": "markdown",
      "metadata": {
        "pycharm": {}
      },
      "source": [
        "---\n",
        "## II. Map Coloring\n",
        "\n",
        "[Map coloring](https://en.wikipedia.org/wiki/Map_coloring) is a classic example of CSPs. A map coloring problem is specified by a set of colors and a map showing the borders between distinct regions. A solution to a map coloring problem is an assignment of one color to each region of the map such that no pair of adjacent regions have the same color.\n",
        "\n",
        "Run the first cell below to declare the color palette and a solver. The color palette specifies a mapping from integer to color. We\u0027ll use integers to represent the values in each constraint; then we can decode the solution from Z3 to determine the color applied to each region in the map.\n",
        "\n",
        "![Map coloring is a classic example CSP](map.png)"
      ]
    },
    {
      "cell_type": "code",
      "execution_count": null,
      "metadata": {
        "collapsed": true,
        "pycharm": {}
      },
      "outputs": [],
      "source": [
        "# create instance of Z3 solver \u0026 declare color palette\n",
        "mc_solver \u003d Solver()\n",
        "colors \u003d {\u00270\u0027: \"Blue\", \u00271\u0027: \"Red\", \u00272\u0027: \"Green\"}"
      ]
    },
    {
      "cell_type": "markdown",
      "metadata": {
        "pycharm": {}
      },
      "source": [
        "### IMPLEMENTATION: Add Variables\n",
        "Add a variable to represent each region on the map above. Use the abbreviated name for the regions: WA\u003dWestern Australia, SA\u003dSouthern Australia, NT\u003dNorthern Territory, Q\u003dQueensland, NSW\u003dNew South Wales, V\u003dVictoria, T\u003dTasmania. Add constraints to each variable to restrict it to one of the available colors: 0\u003dBlue, 1\u003dRed, 2\u003dGreen."
      ]
    },
    {
      "cell_type": "code",
      "execution_count": null,
      "metadata": {
        "collapsed": true,
        "pycharm": {}
      },
      "outputs": [],
      "source": [
        "WA \u003d Int(\u0027WA\u0027)\n",
        "mc_solver.add(0 \u003c\u003d WA, WA \u003c\u003d 2)\n",
        "# ...\n",
        "# TODO: add the remaining six regions and color constraints"
      ]
    },
    {
      "cell_type": "markdown",
      "metadata": {
        "pycharm": {}
      },
      "source": [
        "### IMPLEMENTATION: Distinct Adjacent Colors Constraints\n",
        "As in the previous example, there are many valid ways to add constraints that enforce assigning different colors to adjacent regions of the map. One way is to add boolean constraints for each pair of adjacent regions, e.g., WA !\u003d SA; WA !\u003d NT; etc.\n",
        "\n",
        "Another way is to use so-called pseudo-boolean cardinality constraint, which is a constraint of the form $ \\sum w_i l_i \u003d k $. Constraints of this form can be created in Z3 using `PbEq(((booleanA, w_A), (booleanB, w_B), ...), k)`. Distinct neighbors can be written with k\u003d0, and w_i \u003d 1 for all values of i. (Note: Z3 also has `PbLe()` for $\\sum w_i l_i \u003c\u003d k $ and `PbGe()` for $\\sum w_i l_i \u003e\u003d k $)\n",
        "\n",
        "Choose one of the encodings discussed above and add the required constraints to the solver in the next cell."
      ]
    },
    {
      "cell_type": "code",
      "execution_count": null,
      "metadata": {
        "collapsed": true,
        "pycharm": {}
      },
      "outputs": [],
      "source": [
        "# TODO: add constraints to require adjacent regions to take distinct colors"
      ]
    },
    {
      "cell_type": "code",
      "execution_count": null,
      "metadata": {
        "collapsed": true,
        "pycharm": {}
      },
      "outputs": [],
      "source": [
        "assert mc_solver.check() \u003d\u003d sat, \"Uh oh. The solver failed to find a solution. Check your constraints.\"\n",
        "print(\"WA\u003d{}\".format(colors[mc_solver.model()[WA].as_string()]))\n",
        "print(\"NT\u003d{}\".format(colors[mc_solver.model()[NT].as_string()]))\n",
        "print(\"SA\u003d{}\".format(colors[mc_solver.model()[SA].as_string()]))\n",
        "print(\"Q\u003d{}\".format(colors[mc_solver.model()[Q].as_string()]))\n",
        "print(\"NSW\u003d{}\".format(colors[mc_solver.model()[NSW].as_string()]))\n",
        "print(\"V\u003d{}\".format(colors[mc_solver.model()[V].as_string()]))\n",
        "print(\"T\u003d{}\".format(colors[mc_solver.model()[T].as_string()]))"
      ]
    },
    {
      "cell_type": "markdown",
      "metadata": {
        "collapsed": true,
        "pycharm": {}
      },
      "source": [
        "#### Map Coloring Challenge Problems\n",
        "1. Generalize the procedure for this problem and try it on a larger map (countries in Africa, states in the USA, etc.)\n",
        "2. Extend your procedure to perform [graph coloring](https://en.wikipedia.org/wiki/Graph_coloring) (maps are planar graphs; extending to all graphs generalizes the concept of \"neighbors\" to any pair of connected nodes). (Note: graph coloring is [NP-hard](https://en.wikipedia.org/wiki/Graph_coloring#Computational_complexity), so it may take a very long time to color large graphs.)"
      ]
    },
    {
      "cell_type": "markdown",
      "metadata": {
        "pycharm": {}
      },
      "source": [
        "---\n",
        "## III. N-Queens\n",
        "\n",
        "In the next problem domain you\u0027ll solve the 8-queens puzzle, then use it to explore the complexity of solving CSPs. The 8-queens problem asks you to place 8 queens on a standard 8x8 chessboard such that none of the queens are in \"check\" (i.e., no two queens occupy the same row, column, or diagonal). The N-queens problem generalizes the puzzle to to any size square board.\n",
        "\n",
        "![The 8-queens problem is another classic CSP example](EightQueens.gif)\n",
        "\n",
        "There are many acceptable ways to represent the N-queens problem, but one convenient way is to recognize that one of the constraints (either the row or column constraint) can be enforced implicitly by the encoding.  If we represent a solution as an array with N elements, then each position in the array can represent a column of the board, and the value at each position can represent which row the queen is placed on.\n",
        "\n",
        "In this encoding, we only need a constraint to make sure that no two queens occupy the same row, and one to make sure that no two queens occupy the same diagonal.\n",
        "\n",
        "#### IMPLEMENTATION: N-Queens Solver\n",
        "Complete the function below to take an integer N \u003e\u003d 5 and return a Z3 solver instance with appropriate constraints to solve the N-Queens problem. NOTE: it may take a few minutes for the solver to complete the suggested sizes below."
      ]
    },
    {
      "cell_type": "code",
      "execution_count": null,
      "metadata": {
        "collapsed": true,
        "pycharm": {}
      },
      "outputs": [],
      "source": [
        "def Abs(x):\n",
        "    return If(x \u003e\u003d 0, x, -x)\n",
        "\n",
        "def nqueens(N):\n",
        "    # TODO: Finish this function!\n",
        "    raise NotImplementedError"
      ]
    },
    {
      "cell_type": "code",
      "execution_count": null,
      "metadata": {
        "collapsed": true,
        "pycharm": {}
      },
      "outputs": [],
      "source": [
        "import time\n",
        "from itertools import chain\n",
        "\n",
        "runtimes \u003d []\n",
        "solutions \u003d []\n",
        "sizes \u003d [8, 16, 32, 64]\n",
        "\n",
        "for N in sizes:\n",
        "    nq_solver \u003d nqueens(N)\n",
        "    start \u003d time.perf_counter()\n",
        "    assert nq_solver.check(), \"Uh oh...The solver failed to find a solution. Check your constraints.\"\n",
        "    end \u003d time.perf_counter()\n",
        "    print(\"{}-queens: {}ms\".format(N, (end-start) * 1000))\n",
        "    runtimes.append((end - start) * 1000)\n",
        "    solutions.append(nq_solver)\n",
        "\n",
        "plt.plot(sizes, runtimes)"
      ]
    },
    {
      "cell_type": "markdown",
      "metadata": {
        "pycharm": {}
      },
      "source": [
        "### Queen Problem Challenges\n",
        "- Extend the loop to run several times and estimate the variance in the solver. How consistent is the solver timing between runs?\n",
        "- Read the `displayBoard()` function in the `util.py` module and use it to show your N-queens solution."
      ]
    },
    {
      "cell_type": "markdown",
      "metadata": {
        "pycharm": {}
      },
      "source": [
        "---\n",
        "## IV. Revisiting Sudoku\n",
        "For the last CSP we\u0027ll revisit Sudoku from the first project. You previously solved Sudoku using backtracking search with constraint propagation. This time you\u0027ll re-write your solver using Z3. The backtracking search solver relied on domain-specific heuristics to select assignments during search, and to apply constraint propagation strategies (like elimination, only-choice, naked twins, etc.). The Z3 solver does not incorporate any domain-specific information, but makes up for that by incorporating a more sophisticated and a compiled solver routine.\n",
        "\n",
        "![Example of an easy sudoku puzzle](sudoku.png)"
      ]
    },
    {
      "cell_type": "code",
      "execution_count": null,
      "metadata": {
        "collapsed": true,
        "pycharm": {}
      },
      "outputs": [],
      "source": [
        "from itertools import chain  # flatten nested lists; chain(*[[a, b], [c, d], ...]) \u003d\u003d [a, b, c, d, ...]\n",
        "rows \u003d \u0027ABCDEFGHI\u0027\n",
        "cols \u003d \u0027123456789\u0027\n",
        "boxes \u003d [[Int(\"{}{}\".format(r, c)) for c in cols] for r in rows]  # declare variables for each box in the puzzle\n",
        "s_solver \u003d Solver()  # create a solver instance"
      ]
    },
    {
      "cell_type": "markdown",
      "metadata": {
        "pycharm": {}
      },
      "source": [
        "#### IMPLEMENTATION: General Constraints\n",
        "Add constraints for each of the following conditions:\n",
        "- Boxes can only have values between 1-9 (inclusive)\n",
        "- Each box in a row must have a distinct value\n",
        "- Each box in a column must have a distinct value\n",
        "- Each box in a 3x3 block must have a distinct value"
      ]
    },
    {
      "cell_type": "code",
      "execution_count": null,
      "metadata": {
        "collapsed": true,
        "pycharm": {}
      },
      "outputs": [],
      "source": [
        "# TODO: Add constraints that every box has a value between 1-9 (inclusive)\n",
        "s_solver.add( # YOUR CODE HERE )\n",
        "\n",
        "# TODO: Add constraints that every box in a row has a distinct value\n",
        "s_solver.add( # YOUR CODE HERE )\n",
        "\n",
        "# TODO: Add constraints that every box in a column has a distinct value\n",
        "s_solver.add( # YOUR CODE HERE )\n",
        "\n",
        "# TODO: Add constraints so that every box in a 3x3 block has a distinct value\n",
        "s_solver.add( # YOUR CODE HERE )"
      ]
    },
    {
      "cell_type": "markdown",
      "metadata": {
        "pycharm": {}
      },
      "source": [
        "#### IMPLMENTATION: Puzzle-Specific Constraints\n",
        "Given the hints provided in the initial puzzle layout, you must also add constraints binding the box values to the specified values. For example, to solve the example puzzle you must specify A3 \u003d\u003d 3 and B1 \u003d\u003d 9, etc. The cells with a value of zero in the board below are \"blank\", so you should **not** create any constraint with the associate box."
      ]
    },
    {
      "cell_type": "code",
      "execution_count": null,
      "metadata": {
        "collapsed": true,
        "pycharm": {}
      },
      "outputs": [],
      "source": [
        "# use the value 0 to indicate that a box does not have an assigned value\n",
        "board \u003d ((0, 0, 3, 0, 2, 0, 6, 0, 0),\n",
        "         (9, 0, 0, 3, 0, 5, 0, 0, 1),\n",
        "         (0, 0, 1, 8, 0, 6, 4, 0, 0),\n",
        "         (0, 0, 8, 1, 0, 2, 9, 0, 0),\n",
        "         (7, 0, 0, 0, 0, 0, 0, 0, 8),\n",
        "         (0, 0, 6, 7, 0, 8, 2, 0, 0),\n",
        "         (0, 0, 2, 6, 0, 9, 5, 0, 0),\n",
        "         (8, 0, 0, 2, 0, 3, 0, 0, 9),\n",
        "         (0, 0, 5, 0, 1, 0, 3, 0, 0))\n",
        "\n",
        "# TODO: Add constraints boxes[i][j] \u003d\u003d board[i][j] for each box where board[i][j] !\u003d 0\n",
        "s_solver.add( # YOUR CODE HERE )"
      ]
    },
    {
      "cell_type": "code",
      "execution_count": null,
      "metadata": {
        "collapsed": true,
        "pycharm": {}
      },
      "outputs": [],
      "source": [
        "assert s_solver.check() \u003d\u003d sat, \"Uh oh. The solver didn\u0027t find a solution. Check your constraints.\"\n",
        "for row, _boxes in enumerate(boxes):\n",
        "    if row and row % 3 \u003d\u003d 0:\n",
        "        print(\u0027-\u0027*9+\"|\"+\u0027-\u0027*9+\"|\"+\u0027-\u0027*9)\n",
        "    for col, box in enumerate(_boxes):\n",
        "        if col and col % 3 \u003d\u003d 0:\n",
        "            print(\u0027|\u0027, end\u003d\u0027\u0027)\n",
        "        print(\u0027 {} \u0027.format(s_solver.model()[box]), end\u003d\u0027\u0027)\n",
        "    print()"
      ]
    },
    {
      "cell_type": "markdown",
      "metadata": {
        "pycharm": {}
      },
      "source": [
        "#### Sudoku Challenges\n",
        "1. Solve the \"[hardest sudoku puzzle](# https://www.telegraph.co.uk/news/science/science-news/9359579/Worlds-hardest-sudoku-can-you-crack-it.html)\"\n",
        "2. Search for \"3d Sudoku rules\", then extend your solver to handle 3d puzzles"
      ]
    }
  ],
  "metadata": {
    "anaconda-cloud": {},
    "kernelspec": {
      "display_name": "Python [default]",
      "language": "python",
      "name": "python3"
    },
    "language_info": {
      "codemirror_mode": {
        "name": "ipython",
        "version": 3
      },
      "file_extension": ".py",
      "mimetype": "text/x-python",
      "name": "python",
      "nbconvert_exporter": "python",
      "pygments_lexer": "ipython3",
      "version": "3.5.4"
    }
  },
  "nbformat": 4,
  "nbformat_minor": 1
}